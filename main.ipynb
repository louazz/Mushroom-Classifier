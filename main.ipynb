{
 "cells": [
  {
   "cell_type": "code",
   "execution_count": 344,
   "metadata": {},
   "outputs": [],
   "source": [
    "import pandas as pd\n",
    "from sklearn.preprocessing import LabelEncoder\n",
    "from sklearn.decomposition import TruncatedSVD\n",
    "from sklearn.model_selection import train_test_split\n",
    "from sklearn.preprocessing import MaxAbsScaler\n",
    "from sklearn.linear_model import Perceptron\n",
    "from sklearn.metrics import accuracy_score, confusion_matrix, ConfusionMatrixDisplay\n",
    "import matplotlib.pyplot as plt\n",
    "from sklearn.metrics import roc_curve\n",
    "from sklearn.metrics import auc"
   ]
  },
  {
   "cell_type": "code",
   "execution_count": 345,
   "metadata": {},
   "outputs": [],
   "source": [
    "df= pd.read_csv('./agaricus-lepiota.data')\n",
    "df.columns=['class','cap-shape','cap-surface','cap-color','bruises?','odor','gill-attachment', 'gill-spacing', 'gill-size',   'gill-color',   'stalk-shape',   'stalk-root',   'stalk-surface-above-ring',\n",
    "     'stalk-surface-below-ring',\n",
    "     'stalk-color-above-ring',\n",
    "     'stalk-color-below-ring',\n",
    "     'veil-type',\n",
    "     'veil-color',\n",
    "     'ring-number',\n",
    "     'ring-type',\n",
    "     'spore-print-color',\n",
    "     'population',\n",
    "     'habitat'\n",
    "]"
   ]
  },
  {
   "cell_type": "code",
   "execution_count": 346,
   "metadata": {},
   "outputs": [
    {
     "data": {
      "text/html": [
       "<div>\n",
       "<style scoped>\n",
       "    .dataframe tbody tr th:only-of-type {\n",
       "        vertical-align: middle;\n",
       "    }\n",
       "\n",
       "    .dataframe tbody tr th {\n",
       "        vertical-align: top;\n",
       "    }\n",
       "\n",
       "    .dataframe thead th {\n",
       "        text-align: right;\n",
       "    }\n",
       "</style>\n",
       "<table border=\"1\" class=\"dataframe\">\n",
       "  <thead>\n",
       "    <tr style=\"text-align: right;\">\n",
       "      <th></th>\n",
       "      <th>class</th>\n",
       "      <th>cap-shape</th>\n",
       "      <th>cap-surface</th>\n",
       "      <th>cap-color</th>\n",
       "      <th>bruises?</th>\n",
       "      <th>odor</th>\n",
       "      <th>gill-attachment</th>\n",
       "      <th>gill-spacing</th>\n",
       "      <th>gill-size</th>\n",
       "      <th>gill-color</th>\n",
       "      <th>...</th>\n",
       "      <th>stalk-surface-below-ring</th>\n",
       "      <th>stalk-color-above-ring</th>\n",
       "      <th>stalk-color-below-ring</th>\n",
       "      <th>veil-type</th>\n",
       "      <th>veil-color</th>\n",
       "      <th>ring-number</th>\n",
       "      <th>ring-type</th>\n",
       "      <th>spore-print-color</th>\n",
       "      <th>population</th>\n",
       "      <th>habitat</th>\n",
       "    </tr>\n",
       "  </thead>\n",
       "  <tbody>\n",
       "    <tr>\n",
       "      <th>0</th>\n",
       "      <td>e</td>\n",
       "      <td>x</td>\n",
       "      <td>s</td>\n",
       "      <td>y</td>\n",
       "      <td>t</td>\n",
       "      <td>a</td>\n",
       "      <td>f</td>\n",
       "      <td>c</td>\n",
       "      <td>b</td>\n",
       "      <td>k</td>\n",
       "      <td>...</td>\n",
       "      <td>s</td>\n",
       "      <td>w</td>\n",
       "      <td>w</td>\n",
       "      <td>p</td>\n",
       "      <td>w</td>\n",
       "      <td>o</td>\n",
       "      <td>p</td>\n",
       "      <td>n</td>\n",
       "      <td>n</td>\n",
       "      <td>g</td>\n",
       "    </tr>\n",
       "    <tr>\n",
       "      <th>1</th>\n",
       "      <td>e</td>\n",
       "      <td>b</td>\n",
       "      <td>s</td>\n",
       "      <td>w</td>\n",
       "      <td>t</td>\n",
       "      <td>l</td>\n",
       "      <td>f</td>\n",
       "      <td>c</td>\n",
       "      <td>b</td>\n",
       "      <td>n</td>\n",
       "      <td>...</td>\n",
       "      <td>s</td>\n",
       "      <td>w</td>\n",
       "      <td>w</td>\n",
       "      <td>p</td>\n",
       "      <td>w</td>\n",
       "      <td>o</td>\n",
       "      <td>p</td>\n",
       "      <td>n</td>\n",
       "      <td>n</td>\n",
       "      <td>m</td>\n",
       "    </tr>\n",
       "    <tr>\n",
       "      <th>2</th>\n",
       "      <td>p</td>\n",
       "      <td>x</td>\n",
       "      <td>y</td>\n",
       "      <td>w</td>\n",
       "      <td>t</td>\n",
       "      <td>p</td>\n",
       "      <td>f</td>\n",
       "      <td>c</td>\n",
       "      <td>n</td>\n",
       "      <td>n</td>\n",
       "      <td>...</td>\n",
       "      <td>s</td>\n",
       "      <td>w</td>\n",
       "      <td>w</td>\n",
       "      <td>p</td>\n",
       "      <td>w</td>\n",
       "      <td>o</td>\n",
       "      <td>p</td>\n",
       "      <td>k</td>\n",
       "      <td>s</td>\n",
       "      <td>u</td>\n",
       "    </tr>\n",
       "    <tr>\n",
       "      <th>3</th>\n",
       "      <td>e</td>\n",
       "      <td>x</td>\n",
       "      <td>s</td>\n",
       "      <td>g</td>\n",
       "      <td>f</td>\n",
       "      <td>n</td>\n",
       "      <td>f</td>\n",
       "      <td>w</td>\n",
       "      <td>b</td>\n",
       "      <td>k</td>\n",
       "      <td>...</td>\n",
       "      <td>s</td>\n",
       "      <td>w</td>\n",
       "      <td>w</td>\n",
       "      <td>p</td>\n",
       "      <td>w</td>\n",
       "      <td>o</td>\n",
       "      <td>e</td>\n",
       "      <td>n</td>\n",
       "      <td>a</td>\n",
       "      <td>g</td>\n",
       "    </tr>\n",
       "    <tr>\n",
       "      <th>4</th>\n",
       "      <td>e</td>\n",
       "      <td>x</td>\n",
       "      <td>y</td>\n",
       "      <td>y</td>\n",
       "      <td>t</td>\n",
       "      <td>a</td>\n",
       "      <td>f</td>\n",
       "      <td>c</td>\n",
       "      <td>b</td>\n",
       "      <td>n</td>\n",
       "      <td>...</td>\n",
       "      <td>s</td>\n",
       "      <td>w</td>\n",
       "      <td>w</td>\n",
       "      <td>p</td>\n",
       "      <td>w</td>\n",
       "      <td>o</td>\n",
       "      <td>p</td>\n",
       "      <td>k</td>\n",
       "      <td>n</td>\n",
       "      <td>g</td>\n",
       "    </tr>\n",
       "  </tbody>\n",
       "</table>\n",
       "<p>5 rows × 23 columns</p>\n",
       "</div>"
      ],
      "text/plain": [
       "  class cap-shape cap-surface cap-color bruises? odor gill-attachment  \\\n",
       "0     e         x           s         y        t    a               f   \n",
       "1     e         b           s         w        t    l               f   \n",
       "2     p         x           y         w        t    p               f   \n",
       "3     e         x           s         g        f    n               f   \n",
       "4     e         x           y         y        t    a               f   \n",
       "\n",
       "  gill-spacing gill-size gill-color  ... stalk-surface-below-ring  \\\n",
       "0            c         b          k  ...                        s   \n",
       "1            c         b          n  ...                        s   \n",
       "2            c         n          n  ...                        s   \n",
       "3            w         b          k  ...                        s   \n",
       "4            c         b          n  ...                        s   \n",
       "\n",
       "  stalk-color-above-ring stalk-color-below-ring veil-type veil-color  \\\n",
       "0                      w                      w         p          w   \n",
       "1                      w                      w         p          w   \n",
       "2                      w                      w         p          w   \n",
       "3                      w                      w         p          w   \n",
       "4                      w                      w         p          w   \n",
       "\n",
       "  ring-number ring-type spore-print-color population habitat  \n",
       "0           o         p                 n          n       g  \n",
       "1           o         p                 n          n       m  \n",
       "2           o         p                 k          s       u  \n",
       "3           o         e                 n          a       g  \n",
       "4           o         p                 k          n       g  \n",
       "\n",
       "[5 rows x 23 columns]"
      ]
     },
     "execution_count": 346,
     "metadata": {},
     "output_type": "execute_result"
    }
   ],
   "source": [
    "df.head()"
   ]
  },
  {
   "cell_type": "code",
   "execution_count": 347,
   "metadata": {},
   "outputs": [
    {
     "data": {
      "text/html": [
       "<div>\n",
       "<style scoped>\n",
       "    .dataframe tbody tr th:only-of-type {\n",
       "        vertical-align: middle;\n",
       "    }\n",
       "\n",
       "    .dataframe tbody tr th {\n",
       "        vertical-align: top;\n",
       "    }\n",
       "\n",
       "    .dataframe thead th {\n",
       "        text-align: right;\n",
       "    }\n",
       "</style>\n",
       "<table border=\"1\" class=\"dataframe\">\n",
       "  <thead>\n",
       "    <tr style=\"text-align: right;\">\n",
       "      <th></th>\n",
       "      <th>cap-shape</th>\n",
       "      <th>cap-surface</th>\n",
       "      <th>cap-color</th>\n",
       "      <th>bruises?</th>\n",
       "      <th>odor</th>\n",
       "      <th>gill-attachment</th>\n",
       "      <th>gill-spacing</th>\n",
       "      <th>gill-size</th>\n",
       "      <th>gill-color</th>\n",
       "      <th>stalk-shape</th>\n",
       "      <th>...</th>\n",
       "      <th>stalk-surface-below-ring</th>\n",
       "      <th>stalk-color-above-ring</th>\n",
       "      <th>stalk-color-below-ring</th>\n",
       "      <th>veil-type</th>\n",
       "      <th>veil-color</th>\n",
       "      <th>ring-number</th>\n",
       "      <th>ring-type</th>\n",
       "      <th>spore-print-color</th>\n",
       "      <th>population</th>\n",
       "      <th>habitat</th>\n",
       "    </tr>\n",
       "  </thead>\n",
       "  <tbody>\n",
       "    <tr>\n",
       "      <th>count</th>\n",
       "      <td>8123</td>\n",
       "      <td>8123</td>\n",
       "      <td>8123</td>\n",
       "      <td>8123</td>\n",
       "      <td>8123</td>\n",
       "      <td>8123</td>\n",
       "      <td>8123</td>\n",
       "      <td>8123</td>\n",
       "      <td>8123</td>\n",
       "      <td>8123</td>\n",
       "      <td>...</td>\n",
       "      <td>8123</td>\n",
       "      <td>8123</td>\n",
       "      <td>8123</td>\n",
       "      <td>8123</td>\n",
       "      <td>8123</td>\n",
       "      <td>8123</td>\n",
       "      <td>8123</td>\n",
       "      <td>8123</td>\n",
       "      <td>8123</td>\n",
       "      <td>8123</td>\n",
       "    </tr>\n",
       "    <tr>\n",
       "      <th>unique</th>\n",
       "      <td>6</td>\n",
       "      <td>4</td>\n",
       "      <td>10</td>\n",
       "      <td>2</td>\n",
       "      <td>9</td>\n",
       "      <td>2</td>\n",
       "      <td>2</td>\n",
       "      <td>2</td>\n",
       "      <td>12</td>\n",
       "      <td>2</td>\n",
       "      <td>...</td>\n",
       "      <td>4</td>\n",
       "      <td>9</td>\n",
       "      <td>9</td>\n",
       "      <td>1</td>\n",
       "      <td>4</td>\n",
       "      <td>3</td>\n",
       "      <td>5</td>\n",
       "      <td>9</td>\n",
       "      <td>6</td>\n",
       "      <td>7</td>\n",
       "    </tr>\n",
       "    <tr>\n",
       "      <th>top</th>\n",
       "      <td>x</td>\n",
       "      <td>y</td>\n",
       "      <td>n</td>\n",
       "      <td>f</td>\n",
       "      <td>n</td>\n",
       "      <td>f</td>\n",
       "      <td>c</td>\n",
       "      <td>b</td>\n",
       "      <td>b</td>\n",
       "      <td>t</td>\n",
       "      <td>...</td>\n",
       "      <td>s</td>\n",
       "      <td>w</td>\n",
       "      <td>w</td>\n",
       "      <td>p</td>\n",
       "      <td>w</td>\n",
       "      <td>o</td>\n",
       "      <td>p</td>\n",
       "      <td>w</td>\n",
       "      <td>v</td>\n",
       "      <td>d</td>\n",
       "    </tr>\n",
       "    <tr>\n",
       "      <th>freq</th>\n",
       "      <td>3655</td>\n",
       "      <td>3244</td>\n",
       "      <td>2283</td>\n",
       "      <td>4748</td>\n",
       "      <td>3528</td>\n",
       "      <td>7913</td>\n",
       "      <td>6811</td>\n",
       "      <td>5612</td>\n",
       "      <td>1728</td>\n",
       "      <td>4608</td>\n",
       "      <td>...</td>\n",
       "      <td>4935</td>\n",
       "      <td>4463</td>\n",
       "      <td>4383</td>\n",
       "      <td>8123</td>\n",
       "      <td>7923</td>\n",
       "      <td>7487</td>\n",
       "      <td>3967</td>\n",
       "      <td>2388</td>\n",
       "      <td>4040</td>\n",
       "      <td>3148</td>\n",
       "    </tr>\n",
       "  </tbody>\n",
       "</table>\n",
       "<p>4 rows × 22 columns</p>\n",
       "</div>"
      ],
      "text/plain": [
       "       cap-shape cap-surface cap-color bruises?  odor gill-attachment  \\\n",
       "count       8123        8123      8123     8123  8123            8123   \n",
       "unique         6           4        10        2     9               2   \n",
       "top            x           y         n        f     n               f   \n",
       "freq        3655        3244      2283     4748  3528            7913   \n",
       "\n",
       "       gill-spacing gill-size gill-color stalk-shape  ...  \\\n",
       "count          8123      8123       8123        8123  ...   \n",
       "unique            2         2         12           2  ...   \n",
       "top               c         b          b           t  ...   \n",
       "freq           6811      5612       1728        4608  ...   \n",
       "\n",
       "       stalk-surface-below-ring stalk-color-above-ring stalk-color-below-ring  \\\n",
       "count                      8123                   8123                   8123   \n",
       "unique                        4                      9                      9   \n",
       "top                           s                      w                      w   \n",
       "freq                       4935                   4463                   4383   \n",
       "\n",
       "       veil-type veil-color ring-number ring-type spore-print-color  \\\n",
       "count       8123       8123        8123      8123              8123   \n",
       "unique         1          4           3         5                 9   \n",
       "top            p          w           o         p                 w   \n",
       "freq        8123       7923        7487      3967              2388   \n",
       "\n",
       "       population habitat  \n",
       "count        8123    8123  \n",
       "unique          6       7  \n",
       "top             v       d  \n",
       "freq         4040    3148  \n",
       "\n",
       "[4 rows x 22 columns]"
      ]
     },
     "execution_count": 347,
     "metadata": {},
     "output_type": "execute_result"
    }
   ],
   "source": [
    "y=df['class']\n",
    "x=df.drop('class', axis=1)\n",
    "x.describe()"
   ]
  },
  {
   "cell_type": "code",
   "execution_count": 348,
   "metadata": {},
   "outputs": [
    {
     "name": "stdout",
     "output_type": "stream",
     "text": [
      "      cap-shape  cap-surface  cap-color  bruises?  odor  gill-attachment  \\\n",
      "0             5            2          9         1     0                1   \n",
      "1             0            2          8         1     3                1   \n",
      "2             5            3          8         1     6                1   \n",
      "3             5            2          3         0     5                1   \n",
      "4             5            3          9         1     0                1   \n",
      "...         ...          ...        ...       ...   ...              ...   \n",
      "8118          3            2          4         0     5                0   \n",
      "8119          5            2          4         0     5                0   \n",
      "8120          2            2          4         0     5                0   \n",
      "8121          3            3          4         0     8                1   \n",
      "8122          5            2          4         0     5                0   \n",
      "\n",
      "      gill-spacing  gill-size  gill-color  stalk-shape  ...  \\\n",
      "0                0          0           4            0  ...   \n",
      "1                0          0           5            0  ...   \n",
      "2                0          1           5            0  ...   \n",
      "3                1          0           4            1  ...   \n",
      "4                0          0           5            0  ...   \n",
      "...            ...        ...         ...          ...  ...   \n",
      "8118             0          0          11            0  ...   \n",
      "8119             0          0          11            0  ...   \n",
      "8120             0          0           5            0  ...   \n",
      "8121             0          1           0            1  ...   \n",
      "8122             0          0          11            0  ...   \n",
      "\n",
      "      stalk-surface-below-ring  stalk-color-above-ring  \\\n",
      "0                            2                       7   \n",
      "1                            2                       7   \n",
      "2                            2                       7   \n",
      "3                            2                       7   \n",
      "4                            2                       7   \n",
      "...                        ...                     ...   \n",
      "8118                         2                       5   \n",
      "8119                         2                       5   \n",
      "8120                         2                       5   \n",
      "8121                         1                       7   \n",
      "8122                         2                       5   \n",
      "\n",
      "      stalk-color-below-ring  veil-type  veil-color  ring-number  ring-type  \\\n",
      "0                          7          0           2            1          4   \n",
      "1                          7          0           2            1          4   \n",
      "2                          7          0           2            1          4   \n",
      "3                          7          0           2            1          0   \n",
      "4                          7          0           2            1          4   \n",
      "...                      ...        ...         ...          ...        ...   \n",
      "8118                       5          0           1            1          4   \n",
      "8119                       5          0           0            1          4   \n",
      "8120                       5          0           1            1          4   \n",
      "8121                       7          0           2            1          0   \n",
      "8122                       5          0           1            1          4   \n",
      "\n",
      "      spore-print-color  population  habitat  \n",
      "0                     3           2        1  \n",
      "1                     3           2        3  \n",
      "2                     2           3        5  \n",
      "3                     3           0        1  \n",
      "4                     2           2        1  \n",
      "...                 ...         ...      ...  \n",
      "8118                  0           1        2  \n",
      "8119                  0           4        2  \n",
      "8120                  0           1        2  \n",
      "8121                  7           4        2  \n",
      "8122                  4           1        2  \n",
      "\n",
      "[8123 rows x 22 columns]\n"
     ]
    }
   ],
   "source": [
    "enc_x= LabelEncoder()\n",
    "for col in x.columns:\n",
    "    x[col]=enc_x.fit_transform(x[col])\n",
    "print(x)"
   ]
  },
  {
   "cell_type": "code",
   "execution_count": 349,
   "metadata": {},
   "outputs": [
    {
     "name": "stdout",
     "output_type": "stream",
     "text": [
      "[0 0 1 ... 0 1 0]\n"
     ]
    }
   ],
   "source": [
    "enc_y= LabelEncoder()\n",
    "y= enc_y.fit_transform(y)\n",
    "print(y)"
   ]
  },
  {
   "cell_type": "code",
   "execution_count": 350,
   "metadata": {},
   "outputs": [],
   "source": [
    "X_train, X_test, Y_train, Y_test= train_test_split(X,y, test_size=0.3, random_state=42)"
   ]
  },
  {
   "cell_type": "code",
   "execution_count": 351,
   "metadata": {},
   "outputs": [],
   "source": [
    "scaler= MaxAbsScaler()\n",
    "X_train= scaler.fit_transform(X_train)\n",
    "X_test= scaler.transform(X_test)"
   ]
  },
  {
   "cell_type": "code",
   "execution_count": 352,
   "metadata": {},
   "outputs": [],
   "source": [
    "svd = TruncatedSVD(n_components=4,n_iter=10, random_state=40)\n",
    "X_train=svd.fit_transform(X_train)\n",
    "X_test= svd.transform(X_test)"
   ]
  },
  {
   "cell_type": "code",
   "execution_count": 353,
   "metadata": {},
   "outputs": [],
   "source": [
    "classifier= Perceptron()\n",
    "classifier.fit(X_train, Y_train)\n",
    "y_pred= classifier.predict(X_test)"
   ]
  },
  {
   "cell_type": "code",
   "execution_count": 354,
   "metadata": {},
   "outputs": [
    {
     "data": {
      "text/plain": [
       "0.8662289700451374"
      ]
     },
     "execution_count": 354,
     "metadata": {},
     "output_type": "execute_result"
    }
   ],
   "source": [
    "accuracy_score(Y_test, y_pred)"
   ]
  },
  {
   "cell_type": "code",
   "execution_count": 355,
   "metadata": {},
   "outputs": [
    {
     "data": {
      "image/png": "[encoded data removed]",
      "text/plain": [
       "<Figure size 640x480 with 2 Axes>"
      ]
     },
     "metadata": {},
     "output_type": "display_data"
    }
   ],
   "source": [
    "cm= confusion_matrix(Y_test, y_pred)\n",
    "disp = ConfusionMatrixDisplay(confusion_matrix=cm,\n",
    "                              display_labels=classifier.classes_)\n",
    "disp.plot()\n",
    "plt.show()"
   ]
  },
  {
   "cell_type": "code",
   "execution_count": 356,
   "metadata": {},
   "outputs": [],
   "source": [
    "fpr, tpr, threshold= roc_curve(Y_test,y_pred)\n",
    "auc_rf= auc(fpr, tpr)"
   ]
  },
  {
   "cell_type": "code",
   "execution_count": 357,
   "metadata": {},
   "outputs": [],
   "source": [
    "from tensorflow.keras.models import Sequential\n",
    "from tensorflow.keras.layers import Dense, Dropout\n",
    "from tensorflow.keras.metrics import AUC"
   ]
  },
  {
   "cell_type": "code",
   "execution_count": 358,
   "metadata": {},
   "outputs": [],
   "source": [
    "model= Sequential([\n",
    "    Dense(7,activation=\"relu\", input_shape = (X_train.shape[1],)),\n",
    "    Dense(1, activation=\"sigmoid\")\n",
    "])"
   ]
  },
  {
   "cell_type": "code",
   "execution_count": 359,
   "metadata": {},
   "outputs": [
    {
     "name": "stdout",
     "output_type": "stream",
     "text": [
      "Model: \"sequential_11\"\n",
      "_________________________________________________________________\n",
      " Layer (type)                Output Shape              Param #   \n",
      "=================================================================\n",
      " dense_21 (Dense)            (None, 7)                 35        \n",
      "                                                                 \n",
      " dense_22 (Dense)            (None, 1)                 8         \n",
      "                                                                 \n",
      "=================================================================\n",
      "Total params: 43\n",
      "Trainable params: 43\n",
      "Non-trainable params: 0\n",
      "_________________________________________________________________\n"
     ]
    }
   ],
   "source": [
    "model.summary()\n",
    "model.compile(optimizer=\"adam\", loss=\"binary_crossentropy\", metrics=[\"AUC\"])"
   ]
  },
  {
   "cell_type": "code",
   "execution_count": 360,
   "metadata": {},
   "outputs": [
    {
     "name": "stdout",
     "output_type": "stream",
     "text": [
      "Epoch 1/50\n",
      "569/569 [==============================] - 2s 2ms/step - loss: 0.3397 - auc: 0.9421\n",
      "Epoch 2/50\n",
      "569/569 [==============================] - 1s 2ms/step - loss: 0.2350 - auc: 0.9691\n",
      "Epoch 3/50\n",
      "569/569 [==============================] - 1s 2ms/step - loss: 0.2042 - auc: 0.9742\n",
      "Epoch 4/50\n",
      "569/569 [==============================] - 1s 2ms/step - loss: 0.1893 - auc: 0.9760\n",
      "Epoch 5/50\n",
      "569/569 [==============================] - 1s 2ms/step - loss: 0.1786 - auc: 0.9783\n",
      "Epoch 6/50\n",
      "569/569 [==============================] - 1s 2ms/step - loss: 0.1689 - auc: 0.9813\n",
      "Epoch 7/50\n",
      "569/569 [==============================] - 1s 2ms/step - loss: 0.1587 - auc: 0.9845\n",
      "Epoch 8/50\n",
      "569/569 [==============================] - 1s 2ms/step - loss: 0.1493 - auc: 0.9870\n",
      "Epoch 9/50\n",
      "569/569 [==============================] - 1s 2ms/step - loss: 0.1415 - auc: 0.9889\n",
      "Epoch 10/50\n",
      "569/569 [==============================] - 1s 2ms/step - loss: 0.1350 - auc: 0.9901\n",
      "Epoch 11/50\n",
      "569/569 [==============================] - 1s 2ms/step - loss: 0.1301 - auc: 0.9908\n",
      "Epoch 12/50\n",
      "569/569 [==============================] - 1s 2ms/step - loss: 0.1253 - auc: 0.9915\n",
      "Epoch 13/50\n",
      "569/569 [==============================] - 1s 2ms/step - loss: 0.1214 - auc: 0.9921\n",
      "Epoch 14/50\n",
      "569/569 [==============================] - 1s 2ms/step - loss: 0.1176 - auc: 0.9925\n",
      "Epoch 15/50\n",
      "569/569 [==============================] - 1s 2ms/step - loss: 0.1140 - auc: 0.9930\n",
      "Epoch 16/50\n",
      "569/569 [==============================] - 1s 2ms/step - loss: 0.1109 - auc: 0.9934\n",
      "Epoch 17/50\n",
      "569/569 [==============================] - 1s 2ms/step - loss: 0.1079 - auc: 0.9938\n",
      "Epoch 18/50\n",
      "569/569 [==============================] - 1s 2ms/step - loss: 0.1054 - auc: 0.9940\n",
      "Epoch 19/50\n",
      "569/569 [==============================] - 1s 2ms/step - loss: 0.1032 - auc: 0.9942\n",
      "Epoch 20/50\n",
      "569/569 [==============================] - 1s 2ms/step - loss: 0.1011 - auc: 0.9944\n",
      "Epoch 21/50\n",
      "569/569 [==============================] - 1s 2ms/step - loss: 0.0997 - auc: 0.9946\n",
      "Epoch 22/50\n",
      "569/569 [==============================] - 1s 2ms/step - loss: 0.0983 - auc: 0.9945\n",
      "Epoch 23/50\n",
      "569/569 [==============================] - 1s 2ms/step - loss: 0.0968 - auc: 0.9948\n",
      "Epoch 24/50\n",
      "569/569 [==============================] - 1s 2ms/step - loss: 0.0955 - auc: 0.9948\n",
      "Epoch 25/50\n",
      "569/569 [==============================] - 1s 2ms/step - loss: 0.0945 - auc: 0.9949\n",
      "Epoch 26/50\n",
      "569/569 [==============================] - 1s 2ms/step - loss: 0.0937 - auc: 0.9950\n",
      "Epoch 27/50\n",
      "569/569 [==============================] - 1s 2ms/step - loss: 0.0925 - auc: 0.9951\n",
      "Epoch 28/50\n",
      "569/569 [==============================] - 1s 2ms/step - loss: 0.0918 - auc: 0.9951\n",
      "Epoch 29/50\n",
      "569/569 [==============================] - 1s 2ms/step - loss: 0.0909 - auc: 0.9952\n",
      "Epoch 30/50\n",
      "569/569 [==============================] - 1s 2ms/step - loss: 0.0901 - auc: 0.9953\n",
      "Epoch 31/50\n",
      "569/569 [==============================] - 1s 2ms/step - loss: 0.0897 - auc: 0.9953\n",
      "Epoch 32/50\n",
      "569/569 [==============================] - 1s 2ms/step - loss: 0.0891 - auc: 0.9953\n",
      "Epoch 33/50\n",
      "569/569 [==============================] - 1s 2ms/step - loss: 0.0883 - auc: 0.9955\n",
      "Epoch 34/50\n",
      "569/569 [==============================] - 1s 2ms/step - loss: 0.0878 - auc: 0.9954\n",
      "Epoch 35/50\n",
      "569/569 [==============================] - 1s 2ms/step - loss: 0.0874 - auc: 0.9955\n",
      "Epoch 36/50\n",
      "569/569 [==============================] - 1s 2ms/step - loss: 0.0866 - auc: 0.9955\n",
      "Epoch 37/50\n",
      "569/569 [==============================] - 1s 2ms/step - loss: 0.0866 - auc: 0.9956\n",
      "Epoch 38/50\n",
      "569/569 [==============================] - 1s 2ms/step - loss: 0.0856 - auc: 0.9956\n",
      "Epoch 39/50\n",
      "569/569 [==============================] - 1s 2ms/step - loss: 0.0852 - auc: 0.9958\n",
      "Epoch 40/50\n",
      "569/569 [==============================] - 1s 2ms/step - loss: 0.0848 - auc: 0.9957\n",
      "Epoch 41/50\n",
      "569/569 [==============================] - 1s 2ms/step - loss: 0.0844 - auc: 0.9957\n",
      "Epoch 42/50\n",
      "569/569 [==============================] - 1s 2ms/step - loss: 0.0837 - auc: 0.9958\n",
      "Epoch 43/50\n",
      "569/569 [==============================] - 1s 2ms/step - loss: 0.0836 - auc: 0.9959\n",
      "Epoch 44/50\n",
      "569/569 [==============================] - 1s 2ms/step - loss: 0.0832 - auc: 0.9959\n",
      "Epoch 45/50\n",
      "569/569 [==============================] - 1s 2ms/step - loss: 0.0828 - auc: 0.9959\n",
      "Epoch 46/50\n",
      "569/569 [==============================] - 1s 2ms/step - loss: 0.0826 - auc: 0.9959\n",
      "Epoch 47/50\n",
      "569/569 [==============================] - 1s 2ms/step - loss: 0.0822 - auc: 0.9959\n",
      "Epoch 48/50\n",
      "569/569 [==============================] - 1s 2ms/step - loss: 0.0816 - auc: 0.9960\n",
      "Epoch 49/50\n",
      "569/569 [==============================] - 1s 2ms/step - loss: 0.0812 - auc: 0.9960\n",
      "Epoch 50/50\n",
      "569/569 [==============================] - 1s 2ms/step - loss: 0.0809 - auc: 0.9961\n"
     ]
    },
    {
     "data": {
      "text/plain": [
       "<keras.callbacks.History at 0x7f3ad82eb610>"
      ]
     },
     "execution_count": 360,
     "metadata": {},
     "output_type": "execute_result"
    }
   ],
   "source": [
    "model.fit(X_train, Y_train, batch_size=10, epochs=50)"
   ]
  },
  {
   "cell_type": "code",
   "execution_count": 361,
   "metadata": {},
   "outputs": [
    {
     "name": "stdout",
     "output_type": "stream",
     "text": [
      "77/77 [==============================] - 0s 1ms/step\n"
     ]
    },
    {
     "data": {
      "image/png": "[encoded data removed]",
      "text/plain": [
       "<Figure size 640x480 with 2 Axes>"
      ]
     },
     "metadata": {},
     "output_type": "display_data"
    }
   ],
   "source": [
    "y_pred= model.predict(X_test)\n",
    "y_pred= (y_pred>0.5)\n",
    "cm= confusion_matrix(Y_test, y_pred)\n",
    "disp = ConfusionMatrixDisplay(confusion_matrix=cm)\n",
    "disp.plot()\n",
    "plt.show()"
   ]
  },
  {
   "cell_type": "code",
   "execution_count": 362,
   "metadata": {},
   "outputs": [
    {
     "data": {
      "text/plain": [
       "0.9643003693065244"
      ]
     },
     "execution_count": 362,
     "metadata": {},
     "output_type": "execute_result"
    }
   ],
   "source": [
    "accuracy_score(Y_test, y_pred)"
   ]
  },
  {
   "cell_type": "code",
   "execution_count": 363,
   "metadata": {},
   "outputs": [],
   "source": [
    "fpr_tf, tpr_tf, threshold_tf= roc_curve(Y_test,y_pred)\n",
    "auc_tf= auc(fpr, tpr)"
   ]
  },
  {
   "cell_type": "code",
   "execution_count": 367,
   "metadata": {},
   "outputs": [
    {
     "data": {
      "image/png": "[encoded data removed]",
      "text/plain": [
       "<Figure size 640x480 with 1 Axes>"
      ]
     },
     "metadata": {},
     "output_type": "display_data"
    }
   ],
   "source": [
    "plt.figure(1)\n",
    "plt.plot([0, 1], [0, 1], 'k--')\n",
    "plt.plot(fpr_tf, tpr_tf, label='ANN (area = {:.3f})'.format(auc_tf))\n",
    "plt.plot(fpr, tpr, label='Perceptron (area = {:.3f})'.format(auc_rf))\n",
    "plt.xlabel('False positive rate')\n",
    "plt.ylabel('True positive rate')\n",
    "plt.title('ROC curve')\n",
    "plt.legend(loc='best')\n",
    "plt.show()"
   ]
  }
 ],
 "metadata": {
  "kernelspec": {
   "display_name": "Python 3",
   "language": "python",
   "name": "python3"
  },
  "language_info": {
   "codemirror_mode": {
    "name": "ipython",
    "version": 3
   },
   "file_extension": ".py",
   "mimetype": "text/x-python",
   "name": "python",
   "nbconvert_exporter": "python",
   "pygments_lexer": "ipython3",
   "version": "3.10.6"
  },
  "orig_nbformat": 4,
  "vscode": {
   "interpreter": {
    "hash": "916dbcbb3f70747c44a77c7bcd40155683ae19c65e1c03b4aa3499c5328201f1"
   }
  }
 },
 "nbformat": 4,
 "nbformat_minor": 2
}
